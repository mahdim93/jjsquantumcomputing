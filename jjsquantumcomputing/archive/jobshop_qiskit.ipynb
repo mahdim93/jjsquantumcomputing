{
 "cells": [
  {
   "cell_type": "markdown",
   "id": "95412ed0-b32a-4eec-b1b8-d35e1950a98d",
   "metadata": {},
   "source": [
    "## Run this block of codes to install the required IBM packages\n",
    "\n",
    "https://qiskit-community.github.io/qiskit-optimization/index.html\n",
    "\n",
    "https://qiskit-community.github.io/qiskit-optimization/tutorials/04_grover_optimizer.html"
   ]
  },
  {
   "cell_type": "code",
   "execution_count": null,
   "id": "e621f0c8-80e1-44bc-9612-0bf1293c8c22",
   "metadata": {},
   "outputs": [],
   "source": [
    "!pip install qiskit\n",
    "!pip install qiskit_ibm_runtime\n",
    "!pip install pylatexenc\n",
    "!pip install qiskit-optimization\n",
    "!pip install qiskit_algorithms\n",
    "!pip install tutorial_magics\n",
    "!pip install qiskit_aer"
   ]
  },
  {
   "cell_type": "markdown",
   "id": "45bb8434-030c-41f7-892f-199cc09dadb0",
   "metadata": {},
   "source": [
    "## Run this block of codes to connect to IBM server\n",
    "There is no need to run this block of code for the simulator"
   ]
  },
  {
   "cell_type": "code",
   "execution_count": null,
   "id": "020e18fc-5c32-4314-af1a-f45ea6f34104",
   "metadata": {},
   "outputs": [],
   "source": [
    "import qiskit\n",
    "from qiskit_ibm_runtime import QiskitRuntimeService\n",
    "\n",
    "from qiskit_aer import AerSimulator\n",
    "\n",
    "from qiskit import QuantumCircuit\n",
    "from qiskit_ibm_runtime import QiskitRuntimeService, SamplerV2\n",
    "\n",
    "from qiskit.quantum_info import SparsePauliOp\n",
    "from qiskit.transpiler.preset_passmanagers import generate_preset_pass_manager\n",
    "from qiskit_ibm_runtime import EstimatorV2 as Estimator\n",
    "\n",
    "service = QiskitRuntimeService(channel=\"ibm_quantum\", \n",
    "                               token=\"07bfd9f7167962a67efe94379d7c466db6655eb4b8dbeb2846891b29d76eb12672a900e591fe0e04a67a0fa6e01e0923545b07282473e979f2dc9ba6f5dea66e\")"
   ]
  },
  {
   "cell_type": "markdown",
   "id": "c655ec32-4c42-4e6f-8749-0045d8a6bba8",
   "metadata": {},
   "source": [
    "## Run this block of codes to load required packages"
   ]
  },
  {
   "cell_type": "code",
   "execution_count": 38,
   "id": "db479461",
   "metadata": {},
   "outputs": [],
   "source": [
    "import numpy as np\n",
    "import matplotlib.pyplot as plt\n",
    "from qiskit.visualization import plot_histogram\n",
    "from typing import List, Tuple\n",
    "\n",
    "try:\n",
    "    import cplex\n",
    "    from cplex.exceptions import CplexError\n",
    "except:\n",
    "    print(\"Warning: Cplex not found.\")\n",
    "import math\n",
    "from qiskit_algorithms import QAOA, NumPyMinimumEigensolver\n",
    "from qiskit.primitives import Sampler\n",
    "from qiskit_optimization.algorithms import GroverOptimizer, MinimumEigenOptimizer, RecursiveMinimumEigenOptimizer\n",
    "from qiskit_optimization.algorithms import SolutionSample, OptimizationResultStatus\n",
    "\n",
    "from qiskit_optimization.translators import from_docplex_mp\n",
    "from docplex.mp.model import Model\n",
    "\n",
    "from qiskit_algorithms.utils import algorithm_globals\n",
    "from qiskit_algorithms import SamplingVQE\n",
    "from qiskit_algorithms.optimizers import SPSA, COBYLA\n",
    "from qiskit.circuit.library import RealAmplitudes\n",
    "\n",
    "from qiskit_optimization import QuadraticProgram"
   ]
  },
  {
   "cell_type": "markdown",
   "id": "57b69bc3-cf1d-4e7e-ba80-017611f01f74",
   "metadata": {},
   "source": [
    "## Job shop problem definition"
   ]
  },
  {
   "cell_type": "code",
   "execution_count": 39,
   "id": "12eeef0d-b7ea-4fa6-91c5-a05edea1c149",
   "metadata": {},
   "outputs": [],
   "source": [
    "model = Model(name='job_shop')\n",
    "\n",
    "num_jobs = 2\n",
    "num_machines = 2 + 1\n",
    "num_time_slots = 4\n",
    "\n",
    "J = range(1, num_jobs+1)  # jobs\n",
    "M = range(1, num_machines + 1)   # machines\n",
    "T = range(1, num_time_slots+1)  # time slots\n",
    "\n",
    "# Define constants\n",
    "w = {1: 10, 2: 30}  # j: tardiness weights\n",
    "E = {(1, 1): 5, (1, 2): 10, (1, 3): 0, \n",
    "     (2, 1): 0, (2, 2): 0, (2, 3): 0}  # (j, m): earliness weights\n",
    "d = {1: 4, 2:4}  #  j: due dates\n",
    "p = {(1, 1): 2, (1, 2): 1, (1, 3): 0, \n",
    "     (2, 1): 0, (2, 2): 1, (2, 3): 0}  # (j, m): processing times\n",
    "P = {(1, 1): 3,  (1, 2): 1, (1, 3): 0, \n",
    "     (2, 1): 0,  (2, 2): 1, (2, 3): 0}  # cumulative processing times backward\n",
    "Pp = {(1, 1): 1,  (1, 2): 0, (1, 3): 0, \n",
    "      (2, 1): 0,  (2, 2): 0, (2, 3): 0}  # cumulative processing times backward\n",
    "mp = {(1, 2): 1, (1, 3): 2, \n",
    "    (2, 3): 2} #  (j, m): previous machine\n",
    "\n",
    "i_value = 1\n",
    "sumE = {i: sum(value for key, value in E.items() if key[0] == i) for i in set(key[0] for key in E)}\n",
    "\n",
    "h = [0, 0, 0, 0, 0]"
   ]
  },
  {
   "cell_type": "markdown",
   "id": "762ca30a-8c91-4bb7-9d45-c22ef5b54618",
   "metadata": {},
   "source": [
    "## Create Variables for the problem"
   ]
  },
  {
   "cell_type": "code",
   "execution_count": 40,
   "id": "5ea1e3d0-4958-4921-9c3a-2ed30dd73364",
   "metadata": {},
   "outputs": [
    {
     "name": "stdout",
     "output_type": "stream",
     "text": [
      "number of variables:  24\n"
     ]
    }
   ],
   "source": [
    "variables = {}\n",
    "\n",
    "for j in J:\n",
    "    for m in M:\n",
    "        for t in T:\n",
    "            var_name = f\"y_{j}_{m}_{t}\"\n",
    "            variables[(j,m, t)] = model.binary_var(name=var_name)\n",
    "\n",
    "print(\"number of variables: \", len(variables))"
   ]
  },
  {
   "cell_type": "markdown",
   "id": "a0aa61c1-909c-4db7-8dde-bf3675ae0ec4",
   "metadata": {},
   "source": [
    "## Objective function: W E/T Cost"
   ]
  },
  {
   "cell_type": "code",
   "execution_count": 41,
   "id": "65ad844f-6b5e-49d1-a64a-884a3eedf0b2",
   "metadata": {},
   "outputs": [
    {
     "data": {
      "text/plain": [
       "docplex.mp.LinearExpr(-10y_1_1_1-15y_1_1_2-20y_1_1_3-25y_1_1_4-10y_1_2_1-20y_1_2_2-30y_1_2_3-40y_1_2_4+100y_1_3_4+120y_2_3_4-160)"
      ]
     },
     "execution_count": 41,
     "metadata": {},
     "output_type": "execute_result"
    }
   ],
   "source": [
    "objective = 0\n",
    "for j in J:\n",
    "    objective = objective - d[j]*w[j]\n",
    "    for t in range(d[j], num_time_slots+1):\n",
    "        objective = objective + ((w[j]+sumE[j])*t)*variables[(j, num_machines, t)]\n",
    "    tmp = 0\n",
    "    for tp in range(1, num_time_slots+1):\n",
    "        for m in range(1, num_machines):\n",
    "            tmp = tmp - E[j,m]*(tp + Pp[j,m])*variables[(j, m, tp)]\n",
    "    objective = objective + tmp\n",
    "\n",
    "h[0] = objective\n",
    "objective"
   ]
  },
  {
   "cell_type": "markdown",
   "id": "8dcc7526-5529-401d-8066-69a1d4691df9",
   "metadata": {},
   "source": [
    "## Constraint 1: No − overlap"
   ]
  },
  {
   "cell_type": "code",
   "execution_count": 42,
   "id": "271dc221-adc2-46d3-b9b5-1170e593067e",
   "metadata": {},
   "outputs": [
    {
     "data": {
      "text/plain": [
       "docplex.mp.quad.QuadExpr(y_1_1_1*y_2_1_1+y_1_1_1*y_2_1_2+y_1_1_2*y_2_1_2+y_1_1_2*y_2_1_3+y_1_1_3*y_2_1_3+y_1_1_3*y_2_1_4+y_1_1_4*y_2_1_4+2y_1_2_1*y_2_2_1+2y_1_2_2*y_2_2_2+2y_1_2_3*y_2_2_3+2y_1_2_4*y_2_2_4)"
      ]
     },
     "execution_count": 42,
     "metadata": {},
     "output_type": "execute_result"
    }
   ],
   "source": [
    "h1 = 0\n",
    "for m in range(1, num_machines):\n",
    "    for j in J:\n",
    "        for t in T:\n",
    "            for jp in J:\n",
    "                if j!= jp:\n",
    "                    for tp in range(t, t+ p[j,m] - 1 + 1):\n",
    "                        if tp <= num_time_slots:\n",
    "                            h1 = h1 + variables[(j, m, t)]*variables[(jp, m, tp)]\n",
    "h[1] = h1\n",
    "h1"
   ]
  },
  {
   "cell_type": "markdown",
   "id": "acbc5c47-e227-4e58-bb0b-3c8af773badc",
   "metadata": {},
   "source": [
    "## Constraint 2: Precedence"
   ]
  },
  {
   "cell_type": "code",
   "execution_count": 43,
   "id": "64f9c13d-0983-47c4-9c3f-f72425fee3a2",
   "metadata": {},
   "outputs": [
    {
     "data": {
      "text/plain": [
       "docplex.mp.quad.QuadExpr(y_1_1_1*y_1_2_1+y_1_1_2*y_1_2_1+y_1_1_2*y_1_2_2+y_1_1_3*y_1_2_1+y_1_1_3*y_1_2_2+y_1_1_3*y_1_2_3+y_1_1_4*y_1_2_1+y_1_1_4*y_1_2_2+y_1_1_4*y_1_2_3+y_1_1_4*y_1_2_4+y_1_2_4*y_1_3_1+y_1_2_4*y_1_3_2+y_1_2_4*y_1_3_3+y_2_2_4*y_2_3_1+y_2_2_4*y_2_3_2+y_2_2_4*y_2_3_3)"
      ]
     },
     "execution_count": 43,
     "metadata": {},
     "output_type": "execute_result"
    }
   ],
   "source": [
    "h2 = 0\n",
    "for j in J:\n",
    "    for m in range(2, num_machines):\n",
    "        if (j, m) in mp:\n",
    "            for t in T:\n",
    "                for tp in range(1, t + p[j,m] - 1 + 1):\n",
    "                    if tp <= num_time_slots:\n",
    "                        h2 = h2 + variables[(j, mp[j,m], t)]*variables[(j, m, tp)]\n",
    "h[2] = h2\n",
    "\n",
    "for j in J:\n",
    "    m = num_machines\n",
    "    for t in range(d[j], num_time_slots+1):\n",
    "        for tp in range(1, t - 1 + 1):\n",
    "            h2 = h2 + variables[(j, mp[j,m], t)]*variables[(j, m, tp)]\n",
    "h[2] = h2\n",
    "\n",
    "h2"
   ]
  },
  {
   "cell_type": "markdown",
   "id": "288417ca-515d-42b7-b4e6-66f2547e082b",
   "metadata": {},
   "source": [
    "## Constraint 3: Operation once"
   ]
  },
  {
   "cell_type": "code",
   "execution_count": 44,
   "id": "9778d8dd-f031-4ed9-91b3-48ba311945fc",
   "metadata": {},
   "outputs": [
    {
     "data": {
      "text/plain": [
       "docplex.mp.quad.QuadExpr(y_1_1_1^2+2y_1_1_1*y_1_1_2+2y_1_1_1*y_1_1_3+2y_1_1_1*y_1_1_4+y_1_1_2^2+2y_1_1_2*y_1_1_3+2y_1_1_2*y_1_1_4+y_1_1_3^2+2y_1_1_3*y_1_1_4+y_1_1_4^2+y_1_2_1^2+2y_1_2_1*y_1_2_2+2y_1_2_1*y_1_2_3+2y_1_2_1*y_1_2_4+y_1_2_2^2+2y_1_2_2*y_1_2_3+2y_1_2_2*y_1_2_4+y_1_2_3^2+2y_1_2_3*y_1_2_4+y_1_2_4^2+y_2_2_1^2+2y_2_2_1*y_2_2_2+2y_2_2_1*y_2_2_3+2y_2_2_1*y_2_2_4+y_2_2_2^2+2y_2_2_2*y_2_2_3+2y_2_2_2*y_2_2_4+y_2_2_3^2+2y_2_2_3*y_2_2_4+y_2_2_4^2-2y_1_1_1-2y_1_1_2-2y_1_1_3-2y_1_1_4-2y_1_2_1-2y_1_2_2-2y_1_2_3-2y_1_2_4-2y_2_2_1-2y_2_2_2-2y_2_2_3-2y_2_2_4+3)"
      ]
     },
     "execution_count": 44,
     "metadata": {},
     "output_type": "execute_result"
    }
   ],
   "source": [
    "h3 = 0\n",
    "for j in J:\n",
    "    for m in range(1, num_machines):\n",
    "        if p[j,m] > 0:\n",
    "            tmp = 0\n",
    "            for t in T:\n",
    "                tmp = tmp + variables[(j, m, t)]\n",
    "            h3 = h3 + (tmp - 1)*(tmp - 1)\n",
    "h[3] = h3\n",
    "h3"
   ]
  },
  {
   "cell_type": "markdown",
   "id": "73056e64-a7be-41ad-a8cf-70f9a8c153de",
   "metadata": {},
   "source": [
    "## Constraint 4: Tardy − once"
   ]
  },
  {
   "cell_type": "code",
   "execution_count": 45,
   "id": "e52f51f3-3ee9-42b0-bd07-0a25ef2f57f1",
   "metadata": {},
   "outputs": [
    {
     "data": {
      "text/plain": [
       "docplex.mp.quad.QuadExpr(y_1_3_4^2+y_2_3_4^2-2y_1_3_4-2y_2_3_4+2)"
      ]
     },
     "execution_count": 45,
     "metadata": {},
     "output_type": "execute_result"
    }
   ],
   "source": [
    "h4 = 0\n",
    "for j in J:\n",
    "    tmp = 0\n",
    "    for t in range(d[j], num_time_slots+1):\n",
    "        tmp = tmp + variables[(j, num_machines, t)]\n",
    "    h4 = h4 + (tmp - 1)*(tmp - 1)\n",
    "h[4] = h4\n",
    "h4"
   ]
  },
  {
   "cell_type": "markdown",
   "id": "0d61ee14-45b7-4fd1-bad5-dad959b084a5",
   "metadata": {},
   "source": [
    "## Create the QUBO model and solve it using MinimumEigenOptimizer"
   ]
  },
  {
   "cell_type": "code",
   "execution_count": 46,
   "id": "a2f1c98d-2826-4b8e-9d86-b2288ac28d0b",
   "metadata": {},
   "outputs": [
    {
     "name": "stdout",
     "output_type": "stream",
     "text": [
      "Problem name: job_shop\n",
      "\n",
      "Minimize\n",
      "  1000*y_1_1_1^2 + 2000*y_1_1_1*y_1_1_2 + 2000*y_1_1_1*y_1_1_3\n",
      "  + 2000*y_1_1_1*y_1_1_4 + 1000*y_1_1_1*y_1_2_1 + 1000*y_1_1_1*y_2_1_1\n",
      "  + 1000*y_1_1_1*y_2_1_2 + 1000*y_1_1_2^2 + 2000*y_1_1_2*y_1_1_3\n",
      "  + 2000*y_1_1_2*y_1_1_4 + 1000*y_1_1_2*y_1_2_1 + 1000*y_1_1_2*y_1_2_2\n",
      "  + 1000*y_1_1_2*y_2_1_2 + 1000*y_1_1_2*y_2_1_3 + 1000*y_1_1_3^2\n",
      "  + 2000*y_1_1_3*y_1_1_4 + 1000*y_1_1_3*y_1_2_1 + 1000*y_1_1_3*y_1_2_2\n",
      "  + 1000*y_1_1_3*y_1_2_3 + 1000*y_1_1_3*y_2_1_3 + 1000*y_1_1_3*y_2_1_4\n",
      "  + 1000*y_1_1_4^2 + 1000*y_1_1_4*y_1_2_1 + 1000*y_1_1_4*y_1_2_2\n",
      "  + 1000*y_1_1_4*y_1_2_3 + 1000*y_1_1_4*y_1_2_4 + 1000*y_1_1_4*y_2_1_4\n",
      "  + 1000*y_1_2_1^2 + 2000*y_1_2_1*y_1_2_2 + 2000*y_1_2_1*y_1_2_3\n",
      "  + 2000*y_1_2_1*y_1_2_4 + 2000*y_1_2_1*y_2_2_1 + 1000*y_1_2_2^2\n",
      "  + 2000*y_1_2_2*y_1_2_3 + 2000*y_1_2_2*y_1_2_4 + 2000*y_1_2_2*y_2_2_2\n",
      "  + 1000*y_1_2_3^2 + 2000*y_1_2_3*y_1_2_4 + 2000*y_1_2_3*y_2_2_3\n",
      "  + 1000*y_1_2_4^2 + 1000*y_1_2_4*y_1_3_1 + 1000*y_1_2_4*y_1_3_2\n",
      "  + 1000*y_1_2_4*y_1_3_3 + 2000*y_1_2_4*y_2_2_4 + 1000*y_1_3_4^2\n",
      "  + 1000*y_2_2_1^2 + 2000*y_2_2_1*y_2_2_2 + 2000*y_2_2_1*y_2_2_3\n",
      "  + 2000*y_2_2_1*y_2_2_4 + 1000*y_2_2_2^2 + 2000*y_2_2_2*y_2_2_3\n",
      "  + 2000*y_2_2_2*y_2_2_4 + 1000*y_2_2_3^2 + 2000*y_2_2_3*y_2_2_4\n",
      "  + 1000*y_2_2_4^2 + 1000*y_2_2_4*y_2_3_1 + 1000*y_2_2_4*y_2_3_2\n",
      "  + 1000*y_2_2_4*y_2_3_3 + 1000*y_2_3_4^2 - 2010*y_1_1_1 - 2015*y_1_1_2\n",
      "  - 2020*y_1_1_3 - 2025*y_1_1_4 - 2010*y_1_2_1 - 2020*y_1_2_2 - 2030*y_1_2_3\n",
      "  - 2040*y_1_2_4 - 1900*y_1_3_4 - 2000*y_2_2_1 - 2000*y_2_2_2 - 2000*y_2_2_3\n",
      "  - 2000*y_2_2_4 - 1880*y_2_3_4 + 4840\n",
      "\n",
      "Subject to\n",
      "  No constraints\n",
      "\n",
      "  Binary variables (24)\n",
      "    y_1_1_1 y_1_1_2 y_1_1_3 y_1_1_4 y_1_2_1 y_1_2_2 y_1_2_3 y_1_2_4 y_1_3_1\n",
      "    y_1_3_2 y_1_3_3 y_1_3_4 y_2_1_1 y_2_1_2 y_2_1_3 y_2_1_4 y_2_2_1 y_2_2_2\n",
      "    y_2_2_3 y_2_2_4 y_2_3_1 y_2_3_2 y_2_3_3 y_2_3_4\n",
      "\n"
     ]
    }
   ],
   "source": [
    "alpha = [1, 1000, 1000, 1000, 1000]\n",
    "\n",
    "model.minimize(alpha[0]*h[0]+alpha[1]*h[1]+alpha[2]*h[2]+alpha[3]*h[3]+alpha[4]*h[4])\n",
    "qp = from_docplex_mp(model)\n",
    "print(qp.prettyprint())"
   ]
  },
  {
   "cell_type": "code",
   "execution_count": 48,
   "id": "7ee9c926-babb-41aa-9b9d-78a90cb50c03",
   "metadata": {},
   "outputs": [
    {
     "name": "stdout",
     "output_type": "stream",
     "text": [
      "objective function value: 0.0\n",
      "variable values: y_1_1_1=0.0, y_1_1_2=0.0, y_1_1_3=1.0, y_1_1_4=0.0, y_1_2_1=0.0, y_1_2_2=0.0, y_1_2_3=0.0, y_1_2_4=1.0, y_1_3_1=0.0, y_1_3_2=0.0, y_1_3_3=0.0, y_1_3_4=1.0, y_2_1_1=1.0, y_2_1_2=0.0, y_2_1_3=0.0, y_2_1_4=0.0, y_2_2_1=0.0, y_2_2_2=0.0, y_2_2_3=1.0, y_2_2_4=0.0, y_2_3_1=0.0, y_2_3_2=0.0, y_2_3_3=1.0, y_2_3_4=1.0\n",
      "status: SUCCESS\n",
      "y_1_1_3: 1.0\n",
      "y_1_2_4: 1.0\n",
      "y_1_3_4: 1.0\n",
      "y_2_1_1: 1.0\n",
      "y_2_2_3: 1.0\n",
      "y_2_3_3: 1.0\n",
      "y_2_3_4: 1.0\n"
     ]
    }
   ],
   "source": [
    "exact_solver = MinimumEigenOptimizer(NumPyMinimumEigensolver())\n",
    "exact_result = exact_solver.solve(qp)\n",
    "print(exact_result.prettyprint())\n",
    "\n",
    "for var, value in exact_result.variables_dict.items():\n",
    "    if value > 0:\n",
    "        print(f'{var}: {value}')"
   ]
  },
  {
   "cell_type": "code",
   "execution_count": 25,
   "id": "5158b4f2-57db-4ae8-89e1-e0f54f0b3fcc",
   "metadata": {},
   "outputs": [
    {
     "name": "stdout",
     "output_type": "stream",
     "text": [
      "objective function value: -140.0\n",
      "variable values: y_1_1_1=1.0, y_1_1_2=0.0, y_1_1_3=0.0, y_1_1_4=0.0, y_1_2_1=0.0, y_1_2_2=1.0, y_1_2_3=1.0, y_1_2_4=1.0, y_1_3_1=0.0, y_1_3_2=0.0, y_1_3_3=0.0, y_1_3_4=0.0\n",
      "status: SUCCESS\n",
      "{'y_1_1_1=1 y_1_1_2=1 y_1_1_3=0 y_1_1_4=1 y_1_2_1=0 y_1_2_2=0 y_1_2_3=0 y_1_2_4=0 y_1_3_1=0 y_1_3_2=0 y_1_3_3=0 y_1_3_4=0': 0.0197691805997289, 'y_1_1_1=1 y_1_1_2=1 y_1_1_3=0 y_1_1_4=1 y_1_2_1=0 y_1_2_2=0 y_1_2_3=0 y_1_2_4=0 y_1_3_1=1 y_1_3_2=0 y_1_3_3=0 y_1_3_4=0': 0.008771365257339, 'y_1_1_1=1 y_1_1_2=1 y_1_1_3=0 y_1_1_4=1 y_1_2_1=0 y_1_2_2=0 y_1_2_3=0 y_1_2_4=0 y_1_3_1=0 y_1_3_2=1 y_1_3_3=0 y_1_3_4=0': 0.008771365257339, 'y_1_1_1=1 y_1_1_2=1 y_1_1_3=0 y_1_1_4=1 y_1_2_1=0 y_1_2_2=0 y_1_2_3=0 y_1_2_4=0 y_1_3_1=0 y_1_3_2=0 y_1_3_3=1 y_1_3_4=0': 0.008771365257339, 'y_1_1_1=0 y_1_1_2=1 y_1_1_3=0 y_1_1_4=1 y_1_2_1=0 y_1_2_2=0 y_1_2_3=0 y_1_2_4=0 y_1_3_1=0 y_1_3_2=0 y_1_3_3=0 y_1_3_4=0': 0.0405783369686376, 'y_1_1_1=0 y_1_1_2=1 y_1_1_3=0 y_1_1_4=1 y_1_2_1=0 y_1_2_2=0 y_1_2_3=0 y_1_2_4=0 y_1_3_1=1 y_1_3_2=0 y_1_3_3=0 y_1_3_4=0': 0.0181063688468154, 'y_1_1_1=0 y_1_1_2=1 y_1_1_3=0 y_1_1_4=1 y_1_2_1=0 y_1_2_2=0 y_1_2_3=0 y_1_2_4=0 y_1_3_1=0 y_1_3_2=1 y_1_3_3=0 y_1_3_4=0': 0.0181063688468154, 'y_1_1_1=0 y_1_1_2=1 y_1_1_3=0 y_1_1_4=1 y_1_2_1=0 y_1_2_2=0 y_1_2_3=0 y_1_2_4=0 y_1_3_1=1 y_1_3_2=1 y_1_3_3=0 y_1_3_4=0': 0.0102936604618728, 'y_1_1_1=0 y_1_1_2=1 y_1_1_3=0 y_1_1_4=1 y_1_2_1=0 y_1_2_2=0 y_1_2_3=0 y_1_2_4=0 y_1_3_1=0 y_1_3_2=0 y_1_3_3=1 y_1_3_4=0': 0.0181063688468154, 'y_1_1_1=0 y_1_1_2=1 y_1_1_3=0 y_1_1_4=1 y_1_2_1=0 y_1_2_2=0 y_1_2_3=0 y_1_2_4=0 y_1_3_1=1 y_1_3_2=0 y_1_3_3=1 y_1_3_4=0': 0.0102936604618728, 'y_1_1_1=0 y_1_1_2=1 y_1_1_3=0 y_1_1_4=1 y_1_2_1=0 y_1_2_2=0 y_1_2_3=0 y_1_2_4=0 y_1_3_1=0 y_1_3_2=1 y_1_3_3=1 y_1_3_4=0': 0.0102936604618728, 'y_1_1_1=0 y_1_1_2=1 y_1_1_3=0 y_1_1_4=1 y_1_2_1=0 y_1_2_2=0 y_1_2_3=0 y_1_2_4=0 y_1_3_1=1 y_1_3_2=1 y_1_3_3=1 y_1_3_4=0': 0.0072272788860843, 'y_1_1_1=1 y_1_1_2=0 y_1_1_3=0 y_1_1_4=1 y_1_2_1=0 y_1_2_2=0 y_1_2_3=0 y_1_2_4=0 y_1_3_1=0 y_1_3_2=0 y_1_3_3=0 y_1_3_4=0': 0.0055548864326574, 'y_1_1_1=0 y_1_1_2=0 y_1_1_3=0 y_1_1_4=1 y_1_2_1=0 y_1_2_2=0 y_1_2_3=0 y_1_2_4=0 y_1_3_1=0 y_1_3_2=0 y_1_3_3=0 y_1_3_4=0': 0.0087229692599148, 'y_1_1_1=1 y_1_1_2=1 y_1_1_3=0 y_1_1_4=1 y_1_2_1=0 y_1_2_2=0 y_1_2_3=0 y_1_2_4=0 y_1_3_1=0 y_1_3_2=0 y_1_3_3=0 y_1_3_4=1': 0.0173601907869322, 'y_1_1_1=1 y_1_1_2=1 y_1_1_3=0 y_1_1_4=1 y_1_2_1=0 y_1_2_2=0 y_1_2_3=0 y_1_2_4=0 y_1_3_1=1 y_1_3_2=0 y_1_3_3=0 y_1_3_4=1': 0.0077025233069782, 'y_1_1_1=1 y_1_1_2=1 y_1_1_3=0 y_1_1_4=1 y_1_2_1=0 y_1_2_2=0 y_1_2_3=0 y_1_2_4=0 y_1_3_1=0 y_1_3_2=1 y_1_3_3=0 y_1_3_4=1': 0.0077025233069782, 'y_1_1_1=1 y_1_1_2=1 y_1_1_3=0 y_1_1_4=1 y_1_2_1=0 y_1_2_2=0 y_1_2_3=0 y_1_2_4=0 y_1_3_1=0 y_1_3_2=0 y_1_3_3=1 y_1_3_4=1': 0.0077025233069782, 'y_1_1_1=0 y_1_1_2=1 y_1_1_3=0 y_1_1_4=1 y_1_2_1=0 y_1_2_2=0 y_1_2_3=0 y_1_2_4=0 y_1_3_1=0 y_1_3_2=0 y_1_3_3=0 y_1_3_4=1': 0.0356336302376454, 'y_1_1_1=0 y_1_1_2=1 y_1_1_3=0 y_1_1_4=1 y_1_2_1=0 y_1_2_2=0 y_1_2_3=0 y_1_2_4=0 y_1_3_1=1 y_1_3_2=0 y_1_3_3=0 y_1_3_4=1': 0.0159000023320942, 'y_1_1_1=0 y_1_1_2=1 y_1_1_3=0 y_1_1_4=1 y_1_2_1=0 y_1_2_2=0 y_1_2_3=0 y_1_2_4=0 y_1_3_1=0 y_1_3_2=1 y_1_3_3=0 y_1_3_4=1': 0.0159000023320942, 'y_1_1_1=0 y_1_1_2=1 y_1_1_3=0 y_1_1_4=1 y_1_2_1=0 y_1_2_2=0 y_1_2_3=0 y_1_2_4=0 y_1_3_1=1 y_1_3_2=1 y_1_3_3=0 y_1_3_4=1': 0.0090393179733743, 'y_1_1_1=0 y_1_1_2=1 y_1_1_3=0 y_1_1_4=1 y_1_2_1=0 y_1_2_2=0 y_1_2_3=0 y_1_2_4=0 y_1_3_1=0 y_1_3_2=0 y_1_3_3=1 y_1_3_4=1': 0.0159000023320942, 'y_1_1_1=0 y_1_1_2=1 y_1_1_3=0 y_1_1_4=1 y_1_2_1=0 y_1_2_2=0 y_1_2_3=0 y_1_2_4=0 y_1_3_1=1 y_1_3_2=0 y_1_3_3=1 y_1_3_4=1': 0.0090393179733743, 'y_1_1_1=0 y_1_1_2=1 y_1_1_3=0 y_1_1_4=1 y_1_2_1=0 y_1_2_2=0 y_1_2_3=0 y_1_2_4=0 y_1_3_1=0 y_1_3_2=1 y_1_3_3=1 y_1_3_4=1': 0.0090393179733743, 'y_1_1_1=0 y_1_1_2=1 y_1_1_3=0 y_1_1_4=1 y_1_2_1=0 y_1_2_2=0 y_1_2_3=0 y_1_2_4=0 y_1_3_1=1 y_1_3_2=1 y_1_3_3=1 y_1_3_4=1': 0.0063465928544611, 'y_1_1_1=0 y_1_1_2=0 y_1_1_3=0 y_1_1_4=1 y_1_2_1=0 y_1_2_2=0 y_1_2_3=0 y_1_2_4=0 y_1_3_1=0 y_1_3_2=0 y_1_3_3=0 y_1_3_4=1': 0.0076600246437499, 'y_1_1_1=0 y_1_1_2=1 y_1_1_3=0 y_1_1_4=1 y_1_2_1=0 y_1_2_2=0 y_1_2_3=0 y_1_2_4=1 y_1_3_1=0 y_1_3_2=0 y_1_3_3=0 y_1_3_4=0': 0.0070075902211321, 'y_1_1_1=0 y_1_1_2=1 y_1_1_3=0 y_1_1_4=1 y_1_2_1=0 y_1_2_2=0 y_1_2_3=1 y_1_2_4=0 y_1_3_1=0 y_1_3_2=0 y_1_3_3=0 y_1_3_4=0': 0.0094906949458464, 'y_1_1_1=0 y_1_1_2=1 y_1_1_3=0 y_1_1_4=1 y_1_2_1=0 y_1_2_2=0 y_1_2_3=0 y_1_2_4=1 y_1_3_1=0 y_1_3_2=0 y_1_3_3=0 y_1_3_4=1': 0.0061536745330336, 'y_1_1_1=0 y_1_1_2=1 y_1_1_3=0 y_1_1_4=1 y_1_2_1=0 y_1_2_2=0 y_1_2_3=1 y_1_2_4=0 y_1_3_1=0 y_1_3_2=0 y_1_3_3=0 y_1_3_4=1': 0.0083341984828004}\n"
     ]
    }
   ],
   "source": [
    "algorithm_globals.random_seed = 10598\n",
    "qaoa_mes = QAOA(sampler=Sampler(), optimizer=COBYLA())\n",
    "qaoa = MinimumEigenOptimizer(qaoa_mes)  # using QAOA\n",
    "qaoa_result = qaoa.solve(qp)\n",
    "print(qaoa_result.prettyprint())\n",
    "\n",
    "# print(\"variable order:\", [var.name for var in qaoa_result.variables])\n",
    "# for s in qaoa_result.samples:\n",
    "#     print(s)\n",
    "\n",
    "def get_filtered_samples(\n",
    "    samples: List[SolutionSample],\n",
    "    threshold: float = 0,\n",
    "    allowed_status: Tuple[OptimizationResultStatus] = (OptimizationResultStatus.SUCCESS,),\n",
    "):\n",
    "    res = []\n",
    "    for s in samples:\n",
    "        if s.status in allowed_status and s.probability > threshold:\n",
    "            res.append(s)\n",
    "\n",
    "    return res\n",
    "\n",
    "filtered_samples = get_filtered_samples(\n",
    "    qaoa_result.samples, threshold=0.005, allowed_status=(OptimizationResultStatus.SUCCESS,)\n",
    ")\n",
    "# for s in filtered_samples:\n",
    "#     print(s)\n",
    "\n",
    "fvals = [s.fval for s in qaoa_result.samples]\n",
    "probabilities = [s.probability for s in qaoa_result.samples]\n",
    "\n",
    "samples_for_plot = {\n",
    "    \" \".join(f\"{qaoa_result.variables[i].name}={int(v)}\" for i, v in enumerate(s.x)): s.probability\n",
    "    for s in filtered_samples\n",
    "}\n",
    "\n",
    "# plot_histogram(samples_for_plot)\n",
    "\n",
    "print(samples_for_plot)\n"
   ]
  },
  {
   "cell_type": "markdown",
   "id": "d246bbc3-23c0-4cbb-a46c-ea262f7a0485",
   "metadata": {},
   "source": [
    "## Solve the model using Grover Adaptive Search"
   ]
  },
  {
   "cell_type": "code",
   "execution_count": null,
   "id": "ebb5d53f-8b19-47cc-bcda-d97b8f0ff080",
   "metadata": {},
   "outputs": [],
   "source": [
    "grover_optimizer = GroverOptimizer(len(variables)*2, num_iterations=20, sampler=Sampler())\n",
    "results = grover_optimizer.solve(qp)\n",
    "print(results.prettyprint())"
   ]
  },
  {
   "cell_type": "code",
   "execution_count": null,
   "id": "675eef66-a639-4316-9e32-08fe613173ba",
   "metadata": {},
   "outputs": [],
   "source": []
  }
 ],
 "metadata": {
  "kernelspec": {
   "display_name": "Python 3 (ipykernel)",
   "language": "python",
   "name": "python3"
  },
  "language_info": {
   "codemirror_mode": {
    "name": "ipython",
    "version": 3
   },
   "file_extension": ".py",
   "mimetype": "text/x-python",
   "name": "python",
   "nbconvert_exporter": "python",
   "pygments_lexer": "ipython3",
   "version": "3.9.19"
  }
 },
 "nbformat": 4,
 "nbformat_minor": 5
}
